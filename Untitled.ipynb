{
 "cells": [
  {
   "cell_type": "code",
   "execution_count": 3,
   "id": "56c6da53",
   "metadata": {},
   "outputs": [],
   "source": [
    "import pandas as pd\n",
    "#pd.set_option('display.max_rows', None)"
   ]
  },
  {
   "cell_type": "code",
   "execution_count": 4,
   "id": "25d87872",
   "metadata": {},
   "outputs": [
    {
     "data": {
      "text/html": [
       "<div>\n",
       "<style scoped>\n",
       "    .dataframe tbody tr th:only-of-type {\n",
       "        vertical-align: middle;\n",
       "    }\n",
       "\n",
       "    .dataframe tbody tr th {\n",
       "        vertical-align: top;\n",
       "    }\n",
       "\n",
       "    .dataframe thead th {\n",
       "        text-align: right;\n",
       "    }\n",
       "</style>\n",
       "<table border=\"1\" class=\"dataframe\">\n",
       "  <thead>\n",
       "    <tr style=\"text-align: right;\">\n",
       "      <th></th>\n",
       "      <th>Draw Date</th>\n",
       "      <th>Winning Numbers</th>\n",
       "      <th>Mega Ball</th>\n",
       "      <th>Multiplier</th>\n",
       "    </tr>\n",
       "  </thead>\n",
       "  <tbody>\n",
       "    <tr>\n",
       "      <th>0</th>\n",
       "      <td>09/25/2020</td>\n",
       "      <td>20 36 37 48 67</td>\n",
       "      <td>16</td>\n",
       "      <td>2.0</td>\n",
       "    </tr>\n",
       "    <tr>\n",
       "      <th>1</th>\n",
       "      <td>09/29/2020</td>\n",
       "      <td>14 39 43 44 67</td>\n",
       "      <td>19</td>\n",
       "      <td>3.0</td>\n",
       "    </tr>\n",
       "    <tr>\n",
       "      <th>2</th>\n",
       "      <td>10/02/2020</td>\n",
       "      <td>09 38 47 49 68</td>\n",
       "      <td>25</td>\n",
       "      <td>2.0</td>\n",
       "    </tr>\n",
       "    <tr>\n",
       "      <th>3</th>\n",
       "      <td>10/06/2020</td>\n",
       "      <td>15 16 18 39 59</td>\n",
       "      <td>17</td>\n",
       "      <td>3.0</td>\n",
       "    </tr>\n",
       "    <tr>\n",
       "      <th>4</th>\n",
       "      <td>10/09/2020</td>\n",
       "      <td>05 11 25 27 64</td>\n",
       "      <td>13</td>\n",
       "      <td>2.0</td>\n",
       "    </tr>\n",
       "    <tr>\n",
       "      <th>...</th>\n",
       "      <td>...</td>\n",
       "      <td>...</td>\n",
       "      <td>...</td>\n",
       "      <td>...</td>\n",
       "    </tr>\n",
       "    <tr>\n",
       "      <th>2148</th>\n",
       "      <td>12/27/2022</td>\n",
       "      <td>09 13 36 59 61</td>\n",
       "      <td>11</td>\n",
       "      <td>2.0</td>\n",
       "    </tr>\n",
       "    <tr>\n",
       "      <th>2149</th>\n",
       "      <td>12/30/2022</td>\n",
       "      <td>01 03 06 44 51</td>\n",
       "      <td>7</td>\n",
       "      <td>3.0</td>\n",
       "    </tr>\n",
       "    <tr>\n",
       "      <th>2150</th>\n",
       "      <td>01/03/2023</td>\n",
       "      <td>25 29 33 41 44</td>\n",
       "      <td>18</td>\n",
       "      <td>4.0</td>\n",
       "    </tr>\n",
       "    <tr>\n",
       "      <th>2151</th>\n",
       "      <td>01/06/2023</td>\n",
       "      <td>03 20 46 59 63</td>\n",
       "      <td>13</td>\n",
       "      <td>3.0</td>\n",
       "    </tr>\n",
       "    <tr>\n",
       "      <th>2152</th>\n",
       "      <td>01/10/2023</td>\n",
       "      <td>07 13 14 15 18</td>\n",
       "      <td>9</td>\n",
       "      <td>3.0</td>\n",
       "    </tr>\n",
       "  </tbody>\n",
       "</table>\n",
       "<p>2153 rows × 4 columns</p>\n",
       "</div>"
      ],
      "text/plain": [
       "       Draw Date Winning Numbers  Mega Ball  Multiplier\n",
       "0     09/25/2020  20 36 37 48 67         16         2.0\n",
       "1     09/29/2020  14 39 43 44 67         19         3.0\n",
       "2     10/02/2020  09 38 47 49 68         25         2.0\n",
       "3     10/06/2020  15 16 18 39 59         17         3.0\n",
       "4     10/09/2020  05 11 25 27 64         13         2.0\n",
       "...          ...             ...        ...         ...\n",
       "2148  12/27/2022  09 13 36 59 61         11         2.0\n",
       "2149  12/30/2022  01 03 06 44 51          7         3.0\n",
       "2150  01/03/2023  25 29 33 41 44         18         4.0\n",
       "2151  01/06/2023  03 20 46 59 63         13         3.0\n",
       "2152  01/10/2023  07 13 14 15 18          9         3.0\n",
       "\n",
       "[2153 rows x 4 columns]"
      ]
     },
     "execution_count": 4,
     "metadata": {},
     "output_type": "execute_result"
    }
   ],
   "source": [
    "df = pd.read_csv('Lottery_Mega_Millions_Winning_Numbers__Beginning_2002.csv')\n",
    "df\n"
   ]
  },
  {
   "cell_type": "code",
   "execution_count": 5,
   "id": "a5e8e021",
   "metadata": {},
   "outputs": [
    {
     "name": "stdout",
     "output_type": "stream",
     "text": [
      "<class 'pandas.core.frame.DataFrame'>\n",
      "RangeIndex: 2153 entries, 0 to 2152\n",
      "Data columns (total 4 columns):\n",
      " #   Column           Non-Null Count  Dtype  \n",
      "---  ------           --------------  -----  \n",
      " 0   Draw Date        2153 non-null   object \n",
      " 1   Winning Numbers  2153 non-null   object \n",
      " 2   Mega Ball        2153 non-null   int64  \n",
      " 3   Multiplier       1250 non-null   float64\n",
      "dtypes: float64(1), int64(1), object(2)\n",
      "memory usage: 67.4+ KB\n"
     ]
    }
   ],
   "source": [
    "df.info()"
   ]
  },
  {
   "cell_type": "code",
   "execution_count": 6,
   "id": "97a4fd05",
   "metadata": {},
   "outputs": [
    {
     "data": {
      "text/plain": [
       "(2153, 4)"
      ]
     },
     "execution_count": 6,
     "metadata": {},
     "output_type": "execute_result"
    }
   ],
   "source": [
    "df.shape"
   ]
  },
  {
   "cell_type": "code",
   "execution_count": 7,
   "id": "213b8a05",
   "metadata": {},
   "outputs": [
    {
     "name": "stdout",
     "output_type": "stream",
     "text": [
      "<class 'pandas.core.frame.DataFrame'>\n",
      "RangeIndex: 2153 entries, 0 to 2152\n",
      "Data columns (total 4 columns):\n",
      " #   Column           Non-Null Count  Dtype  \n",
      "---  ------           --------------  -----  \n",
      " 0   Draw_Date        2153 non-null   object \n",
      " 1   Winning_Numbers  2153 non-null   object \n",
      " 2   Mega_Ball        2153 non-null   int64  \n",
      " 3   Multiplier       1250 non-null   float64\n",
      "dtypes: float64(1), int64(1), object(2)\n",
      "memory usage: 67.4+ KB\n"
     ]
    }
   ],
   "source": [
    "#replace the spaces between the column names with \"_\" using rename function\n",
    "df.columns = df.columns.str.replace(' ','_')\n",
    "df.info()"
   ]
  },
  {
   "cell_type": "code",
   "execution_count": 8,
   "id": "6fb85299",
   "metadata": {},
   "outputs": [],
   "source": [
    "#Convert to datetime type\n",
    "df['Draw_Date'] = pd.to_datetime(df['Draw_Date'])"
   ]
  },
  {
   "cell_type": "code",
   "execution_count": 9,
   "id": "2646eadc",
   "metadata": {},
   "outputs": [
    {
     "data": {
      "text/plain": [
       "Draw_Date            0\n",
       "Winning_Numbers      0\n",
       "Mega_Ball            0\n",
       "Multiplier         903\n",
       "dtype: int64"
      ]
     },
     "execution_count": 9,
     "metadata": {},
     "output_type": "execute_result"
    }
   ],
   "source": [
    "df.isna().sum()"
   ]
  },
  {
   "cell_type": "code",
   "execution_count": 10,
   "id": "59d1d6e6",
   "metadata": {},
   "outputs": [
    {
     "data": {
      "text/plain": [
       "array([16, 19, 25, 17, 13, 12, 10, 22,  1, 11,  2,  7,  6, 14,  8, 15,  5,\n",
       "       21,  4,  9, 24,  3, 18, 20, 23, 46, 38, 33, 34, 31, 28, 37, 40, 41,\n",
       "       39, 42, 30, 26, 36, 43, 35, 44, 29, 32, 27, 45, 47, 50, 48, 52, 49,\n",
       "       51])"
      ]
     },
     "execution_count": 10,
     "metadata": {},
     "output_type": "execute_result"
    }
   ],
   "source": [
    "df.Mega_Ball.unique()"
   ]
  },
  {
   "cell_type": "code",
   "execution_count": 11,
   "id": "2a9275f2",
   "metadata": {},
   "outputs": [
    {
     "name": "stdout",
     "output_type": "stream",
     "text": [
      "<class 'pandas.core.frame.DataFrame'>\n",
      "Int64Index: 1590 entries, 0 to 2152\n",
      "Data columns (total 4 columns):\n",
      " #   Column           Non-Null Count  Dtype         \n",
      "---  ------           --------------  -----         \n",
      " 0   Draw_Date        1590 non-null   datetime64[ns]\n",
      " 1   Winning_Numbers  1590 non-null   object        \n",
      " 2   Mega_Ball        1590 non-null   int64         \n",
      " 3   Multiplier       1108 non-null   float64       \n",
      "dtypes: datetime64[ns](1), float64(1), int64(1), object(1)\n",
      "memory usage: 62.1+ KB\n"
     ]
    }
   ],
   "source": [
    "df = df[df['Mega_Ball'] <= 25]\n",
    "df.info()"
   ]
  },
  {
   "cell_type": "code",
   "execution_count": 30,
   "id": "e8211546",
   "metadata": {},
   "outputs": [
    {
     "data": {
      "text/html": [
       "<div>\n",
       "<style scoped>\n",
       "    .dataframe tbody tr th:only-of-type {\n",
       "        vertical-align: middle;\n",
       "    }\n",
       "\n",
       "    .dataframe tbody tr th {\n",
       "        vertical-align: top;\n",
       "    }\n",
       "\n",
       "    .dataframe thead th {\n",
       "        text-align: right;\n",
       "    }\n",
       "</style>\n",
       "<table border=\"1\" class=\"dataframe\">\n",
       "  <thead>\n",
       "    <tr style=\"text-align: right;\">\n",
       "      <th></th>\n",
       "      <th>count</th>\n",
       "    </tr>\n",
       "  </thead>\n",
       "  <tbody>\n",
       "    <tr>\n",
       "      <th>1</th>\n",
       "      <td>74</td>\n",
       "    </tr>\n",
       "    <tr>\n",
       "      <th>2</th>\n",
       "      <td>67</td>\n",
       "    </tr>\n",
       "    <tr>\n",
       "      <th>3</th>\n",
       "      <td>78</td>\n",
       "    </tr>\n",
       "    <tr>\n",
       "      <th>4</th>\n",
       "      <td>77</td>\n",
       "    </tr>\n",
       "    <tr>\n",
       "      <th>5</th>\n",
       "      <td>60</td>\n",
       "    </tr>\n",
       "    <tr>\n",
       "      <th>6</th>\n",
       "      <td>77</td>\n",
       "    </tr>\n",
       "    <tr>\n",
       "      <th>7</th>\n",
       "      <td>81</td>\n",
       "    </tr>\n",
       "    <tr>\n",
       "      <th>8</th>\n",
       "      <td>65</td>\n",
       "    </tr>\n",
       "    <tr>\n",
       "      <th>9</th>\n",
       "      <td>84</td>\n",
       "    </tr>\n",
       "    <tr>\n",
       "      <th>10</th>\n",
       "      <td>86</td>\n",
       "    </tr>\n",
       "    <tr>\n",
       "      <th>11</th>\n",
       "      <td>76</td>\n",
       "    </tr>\n",
       "    <tr>\n",
       "      <th>12</th>\n",
       "      <td>68</td>\n",
       "    </tr>\n",
       "    <tr>\n",
       "      <th>13</th>\n",
       "      <td>78</td>\n",
       "    </tr>\n",
       "    <tr>\n",
       "      <th>14</th>\n",
       "      <td>67</td>\n",
       "    </tr>\n",
       "    <tr>\n",
       "      <th>15</th>\n",
       "      <td>81</td>\n",
       "    </tr>\n",
       "    <tr>\n",
       "      <th>16</th>\n",
       "      <td>38</td>\n",
       "    </tr>\n",
       "    <tr>\n",
       "      <th>17</th>\n",
       "      <td>44</td>\n",
       "    </tr>\n",
       "    <tr>\n",
       "      <th>18</th>\n",
       "      <td>46</td>\n",
       "    </tr>\n",
       "    <tr>\n",
       "      <th>19</th>\n",
       "      <td>50</td>\n",
       "    </tr>\n",
       "    <tr>\n",
       "      <th>20</th>\n",
       "      <td>47</td>\n",
       "    </tr>\n",
       "    <tr>\n",
       "      <th>21</th>\n",
       "      <td>53</td>\n",
       "    </tr>\n",
       "    <tr>\n",
       "      <th>22</th>\n",
       "      <td>58</td>\n",
       "    </tr>\n",
       "    <tr>\n",
       "      <th>23</th>\n",
       "      <td>36</td>\n",
       "    </tr>\n",
       "    <tr>\n",
       "      <th>24</th>\n",
       "      <td>52</td>\n",
       "    </tr>\n",
       "    <tr>\n",
       "      <th>25</th>\n",
       "      <td>47</td>\n",
       "    </tr>\n",
       "  </tbody>\n",
       "</table>\n",
       "</div>"
      ],
      "text/plain": [
       "    count\n",
       "1      74\n",
       "2      67\n",
       "3      78\n",
       "4      77\n",
       "5      60\n",
       "6      77\n",
       "7      81\n",
       "8      65\n",
       "9      84\n",
       "10     86\n",
       "11     76\n",
       "12     68\n",
       "13     78\n",
       "14     67\n",
       "15     81\n",
       "16     38\n",
       "17     44\n",
       "18     46\n",
       "19     50\n",
       "20     47\n",
       "21     53\n",
       "22     58\n",
       "23     36\n",
       "24     52\n",
       "25     47"
      ]
     },
     "execution_count": 30,
     "metadata": {},
     "output_type": "execute_result"
    }
   ],
   "source": [
    "df[\"Mega_Ball\"].value_counts().sort_index().to_frame('count')"
   ]
  },
  {
   "cell_type": "code",
   "execution_count": null,
   "id": "bc3c4aca",
   "metadata": {},
   "outputs": [],
   "source": [
    "df[['pick_1','pick_2','pick_3','pick_4','pick_5']] = df['Winning_Numbers'].str.split(' ', expand=True)"
   ]
  },
  {
   "cell_type": "code",
   "execution_count": null,
   "id": "df9a7907",
   "metadata": {},
   "outputs": [],
   "source": [
    "df"
   ]
  },
  {
   "cell_type": "code",
   "execution_count": null,
   "id": "50a6a000",
   "metadata": {},
   "outputs": [],
   "source": [
    "df.columns"
   ]
  },
  {
   "cell_type": "code",
   "execution_count": null,
   "id": "bf5f9425",
   "metadata": {},
   "outputs": [],
   "source": [
    "list(df.columns.values)"
   ]
  },
  {
   "cell_type": "code",
   "execution_count": null,
   "id": "9873a3a3",
   "metadata": {},
   "outputs": [],
   "source": [
    "df = df[['Draw_Date',\n",
    "         'Winning_Numbers',\n",
    "         'pick_1',\n",
    "         'pick_2',\n",
    "         'pick_3',\n",
    "         'pick_4',\n",
    "         'pick_5',\n",
    "         'Mega_Ball',\n",
    "         'Multiplier']]\n",
    "df"
   ]
  },
  {
   "cell_type": "code",
   "execution_count": null,
   "id": "4b5be5e5",
   "metadata": {},
   "outputs": [],
   "source": [
    "df.info()"
   ]
  },
  {
   "cell_type": "code",
   "execution_count": null,
   "id": "40004285",
   "metadata": {
    "scrolled": false
   },
   "outputs": [],
   "source": [
    "df['Winning_draw']= df[['pick_1','pick_2','pick_3','pick_4','pick_5']].values.tolist()\n",
    "df"
   ]
  },
  {
   "cell_type": "code",
   "execution_count": null,
   "id": "6aa52dfb",
   "metadata": {},
   "outputs": [],
   "source": [
    "df['Winning_draw'] = df['Winning_draw'].apply(lambda x: sorted(x))"
   ]
  },
  {
   "cell_type": "code",
   "execution_count": null,
   "id": "fe9d8d60",
   "metadata": {},
   "outputs": [],
   "source": [
    "df"
   ]
  },
  {
   "cell_type": "code",
   "execution_count": null,
   "id": "3367e065",
   "metadata": {},
   "outputs": [],
   "source": [
    "df[df['Mega_Ball'].duplicated()]"
   ]
  },
  {
   "cell_type": "code",
   "execution_count": null,
   "id": "58ec25e1",
   "metadata": {},
   "outputs": [],
   "source": [
    "df.Mega_Ball.unique()"
   ]
  },
  {
   "cell_type": "code",
   "execution_count": null,
   "id": "14792df0",
   "metadata": {},
   "outputs": [],
   "source": [
    "df1 = df[df['Mega_Ball'] >= 25]"
   ]
  },
  {
   "cell_type": "code",
   "execution_count": null,
   "id": "f137992b",
   "metadata": {},
   "outputs": [],
   "source": [
    "df1"
   ]
  },
  {
   "cell_type": "code",
   "execution_count": null,
   "id": "e43f221b",
   "metadata": {},
   "outputs": [],
   "source": []
  }
 ],
 "metadata": {
  "kernelspec": {
   "display_name": "Python 3 (ipykernel)",
   "language": "python",
   "name": "python3"
  },
  "language_info": {
   "codemirror_mode": {
    "name": "ipython",
    "version": 3
   },
   "file_extension": ".py",
   "mimetype": "text/x-python",
   "name": "python",
   "nbconvert_exporter": "python",
   "pygments_lexer": "ipython3",
   "version": "3.9.12"
  }
 },
 "nbformat": 4,
 "nbformat_minor": 5
}
